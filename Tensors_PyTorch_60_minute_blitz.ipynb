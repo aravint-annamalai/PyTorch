{
  "nbformat": 4,
  "nbformat_minor": 0,
  "metadata": {
    "colab": {
      "name": "Tensors - PyTorch 60-minute blitz.ipynb",
      "provenance": [],
      "authorship_tag": "ABX9TyPP0HRP7i3i1VYiaVr9rAXo",
      "include_colab_link": true
    },
    "kernelspec": {
      "name": "python3",
      "display_name": "Python 3"
    },
    "language_info": {
      "name": "python"
    },
    "accelerator": "GPU"
  },
  "cells": [
    {
      "cell_type": "markdown",
      "metadata": {
        "id": "view-in-github",
        "colab_type": "text"
      },
      "source": [
        "<a href=\"https://colab.research.google.com/github/aravint-annamalai/PyTorch/blob/main/Tensors_PyTorch_60_minute_blitz.ipynb\" target=\"_parent\"><img src=\"https://colab.research.google.com/assets/colab-badge.svg\" alt=\"Open In Colab\"/></a>"
      ]
    },
    {
      "cell_type": "code",
      "metadata": {
        "id": "6VBiU4j5zUEx"
      },
      "source": [
        "import torch\n",
        "import numpy as np"
      ],
      "execution_count": 1,
      "outputs": []
    },
    {
      "cell_type": "markdown",
      "metadata": {
        "id": "SpACtHcyzlzM"
      },
      "source": [
        "# TENSOR INITIALIZATION"
      ]
    },
    {
      "cell_type": "markdown",
      "metadata": {
        "id": "OLGfEgZZz-vX"
      },
      "source": [
        "## torch.tensor - Directly from data "
      ]
    },
    {
      "cell_type": "code",
      "metadata": {
        "id": "IvUG2U3-zeCP"
      },
      "source": [
        "data = [[1,2],[3,4]]\n",
        "x_data = torch.tensor(data)"
      ],
      "execution_count": 2,
      "outputs": []
    },
    {
      "cell_type": "code",
      "metadata": {
        "colab": {
          "base_uri": "https://localhost:8080/"
        },
        "id": "J9gaaqx30Iox",
        "outputId": "be154e6a-c594-449f-be6e-a73709ef2e2f"
      },
      "source": [
        "x_data"
      ],
      "execution_count": 3,
      "outputs": [
        {
          "output_type": "execute_result",
          "data": {
            "text/plain": [
              "tensor([[1, 2],\n",
              "        [3, 4]])"
            ]
          },
          "metadata": {},
          "execution_count": 3
        }
      ]
    },
    {
      "cell_type": "markdown",
      "metadata": {
        "id": "VSZAYz160Chl"
      },
      "source": [
        "## torch.from_numpy - From a NumPy array"
      ]
    },
    {
      "cell_type": "code",
      "metadata": {
        "colab": {
          "base_uri": "https://localhost:8080/"
        },
        "id": "KSDrF2r0z8CB",
        "outputId": "395a4a3d-33a3-47dc-e01c-f26431795769"
      },
      "source": [
        "np_array = np.array(data)\n",
        "x_np = torch.from_numpy(np_array)\n",
        "x_np"
      ],
      "execution_count": 4,
      "outputs": [
        {
          "output_type": "execute_result",
          "data": {
            "text/plain": [
              "tensor([[1, 2],\n",
              "        [3, 4]])"
            ]
          },
          "metadata": {},
          "execution_count": 4
        }
      ]
    },
    {
      "cell_type": "markdown",
      "metadata": {
        "id": "2otRYrni0eTt"
      },
      "source": [
        "## From another tensor"
      ]
    },
    {
      "cell_type": "markdown",
      "metadata": {
        "id": "q87I85lg16os"
      },
      "source": [
        "### torch.ones_like"
      ]
    },
    {
      "cell_type": "markdown",
      "metadata": {
        "id": "hFk91VPq2CGZ"
      },
      "source": [
        "Tensor of all ones having the same shape as the input tensor "
      ]
    },
    {
      "cell_type": "code",
      "metadata": {
        "colab": {
          "base_uri": "https://localhost:8080/"
        },
        "id": "-vyvCduv0Pwh",
        "outputId": "a6c706b6-5d75-458e-f225-bc15717a7a17"
      },
      "source": [
        "x_ones = torch.ones_like(x_data)\n",
        "print(f\"Ones Tensor: \\n {x_ones} \\n\")"
      ],
      "execution_count": 5,
      "outputs": [
        {
          "output_type": "stream",
          "name": "stdout",
          "text": [
            "Ones Tensor: \n",
            " tensor([[1, 1],\n",
            "        [1, 1]]) \n",
            "\n"
          ]
        }
      ]
    },
    {
      "cell_type": "markdown",
      "metadata": {
        "id": "hlCvjD-q2liJ"
      },
      "source": [
        "### torch.rand_like"
      ]
    },
    {
      "cell_type": "markdown",
      "metadata": {
        "id": "n154qp0C2qIJ"
      },
      "source": [
        "Tensor of random numbers having the same shape as the input tensor"
      ]
    },
    {
      "cell_type": "code",
      "metadata": {
        "colab": {
          "base_uri": "https://localhost:8080/"
        },
        "id": "f5g1CWV31sLH",
        "outputId": "76b22a2e-5c81-401d-d42f-f8ae87599b8a"
      },
      "source": [
        "x_rand = torch.rand_like(x_data, dtype = torch.float)\n",
        "print(f\"Random tensor: \\n {x_rand} \\n\")"
      ],
      "execution_count": 6,
      "outputs": [
        {
          "output_type": "stream",
          "name": "stdout",
          "text": [
            "Random tensor: \n",
            " tensor([[0.1098, 0.4555],\n",
            "        [0.8467, 0.6821]]) \n",
            "\n"
          ]
        }
      ]
    },
    {
      "cell_type": "markdown",
      "metadata": {
        "id": "cXImHYtt3Wik"
      },
      "source": [
        "## With random or constant values"
      ]
    },
    {
      "cell_type": "code",
      "metadata": {
        "colab": {
          "base_uri": "https://localhost:8080/"
        },
        "id": "LJRMJf2A26OF",
        "outputId": "3ee62b5a-e127-412f-94cb-866d4666bb18"
      },
      "source": [
        "shape = (2,3)\n",
        "rand_tensor = torch.rand(shape)\n",
        "ones_tensor = torch.ones(shape)\n",
        "zeros_tensor = torch.zeros(shape)\n",
        "\n",
        "print(f\"Random tensor: \\n {rand_tensor} \\n\")\n",
        "print(f\"Ones tensor: \\n {ones_tensor} \\n\")\n",
        "print(f\"Zeros tensor: \\n {zeros_tensor} \\n\")"
      ],
      "execution_count": 7,
      "outputs": [
        {
          "output_type": "stream",
          "name": "stdout",
          "text": [
            "Random tensor: \n",
            " tensor([[0.3588, 0.3252, 0.4485],\n",
            "        [0.1834, 0.8162, 0.7564]]) \n",
            "\n",
            "Ones tensor: \n",
            " tensor([[1., 1., 1.],\n",
            "        [1., 1., 1.]]) \n",
            "\n",
            "Zeros tensor: \n",
            " tensor([[0., 0., 0.],\n",
            "        [0., 0., 0.]]) \n",
            "\n"
          ]
        }
      ]
    },
    {
      "cell_type": "markdown",
      "metadata": {
        "id": "-RuU_FW35P8u"
      },
      "source": [
        "# TENSOR ATTRIBUTES"
      ]
    },
    {
      "cell_type": "code",
      "metadata": {
        "colab": {
          "base_uri": "https://localhost:8080/"
        },
        "id": "WHtvqI8J5XPB",
        "outputId": "940780e7-a804-4620-fb1c-efb37e13af8c"
      },
      "source": [
        "tensor = torch.rand(3,4)\n",
        "\n",
        "print(f\"Shape of tensor: {tensor.shape}\")\n",
        "print(f\"Datatype of tensor: {tensor.dtype}\")\n",
        "print(f\"Device tensor is stored on: {tensor.device}\")"
      ],
      "execution_count": 8,
      "outputs": [
        {
          "output_type": "stream",
          "name": "stdout",
          "text": [
            "Shape of tensor: torch.Size([3, 4])\n",
            "Datatype of tensor: torch.float32\n",
            "Device tensor is stored on: cpu\n"
          ]
        }
      ]
    },
    {
      "cell_type": "code",
      "metadata": {
        "id": "ExOv8Gs94pUy"
      },
      "source": [
        "assert rand_tensor.shape == rand_tensor.size()"
      ],
      "execution_count": 9,
      "outputs": []
    },
    {
      "cell_type": "markdown",
      "metadata": {
        "id": "KOQYToUSqhQz"
      },
      "source": [
        "# TENSOR OPERATIONS"
      ]
    },
    {
      "cell_type": "code",
      "metadata": {
        "id": "iNbZSC554s0m"
      },
      "source": [
        "if torch.cuda.is_available():\n",
        "  tensor = tensor.to('cuda')"
      ],
      "execution_count": 11,
      "outputs": []
    },
    {
      "cell_type": "code",
      "metadata": {
        "colab": {
          "base_uri": "https://localhost:8080/"
        },
        "id": "G5OnQMXbqtnM",
        "outputId": "c6aff88a-94a8-433e-e7f0-47c06d520210"
      },
      "source": [
        "tensor.device"
      ],
      "execution_count": 12,
      "outputs": [
        {
          "output_type": "execute_result",
          "data": {
            "text/plain": [
              "device(type='cuda', index=0)"
            ]
          },
          "metadata": {},
          "execution_count": 12
        }
      ]
    },
    {
      "cell_type": "code",
      "metadata": {
        "colab": {
          "base_uri": "https://localhost:8080/"
        },
        "id": "YFP4iMRrq3Na",
        "outputId": "b7c73742-6f5c-4dc3-bb9e-dfea8baf3d07"
      },
      "source": [
        "tensor = torch.ones((4,4))\n",
        "tensor[:,1] = 0\n",
        "tensor"
      ],
      "execution_count": 13,
      "outputs": [
        {
          "output_type": "execute_result",
          "data": {
            "text/plain": [
              "tensor([[1., 0., 1., 1.],\n",
              "        [1., 0., 1., 1.],\n",
              "        [1., 0., 1., 1.],\n",
              "        [1., 0., 1., 1.]])"
            ]
          },
          "metadata": {},
          "execution_count": 13
        }
      ]
    },
    {
      "cell_type": "markdown",
      "metadata": {
        "id": "gE1v3Aubrkbd"
      },
      "source": [
        "## Joining tensors"
      ]
    },
    {
      "cell_type": "markdown",
      "metadata": {
        "id": "uZAJAyocrzPj"
      },
      "source": [
        "The below code concatenates the above tensor thrice, side-by-side"
      ]
    },
    {
      "cell_type": "code",
      "metadata": {
        "colab": {
          "base_uri": "https://localhost:8080/"
        },
        "id": "AuNsdVSxreM4",
        "outputId": "e0f629e4-9262-4c3e-a131-43474f09bed1"
      },
      "source": [
        "t1 = torch.cat([tensor, tensor, tensor], axis=1)\n",
        "t1"
      ],
      "execution_count": 14,
      "outputs": [
        {
          "output_type": "execute_result",
          "data": {
            "text/plain": [
              "tensor([[1., 0., 1., 1., 1., 0., 1., 1., 1., 0., 1., 1.],\n",
              "        [1., 0., 1., 1., 1., 0., 1., 1., 1., 0., 1., 1.],\n",
              "        [1., 0., 1., 1., 1., 0., 1., 1., 1., 0., 1., 1.],\n",
              "        [1., 0., 1., 1., 1., 0., 1., 1., 1., 0., 1., 1.]])"
            ]
          },
          "metadata": {},
          "execution_count": 14
        }
      ]
    },
    {
      "cell_type": "markdown",
      "metadata": {
        "id": "Ydn8sqger9LX"
      },
      "source": [
        "## Multiplying tensors"
      ]
    },
    {
      "cell_type": "markdown",
      "metadata": {
        "id": "AenwtSGDr_yo"
      },
      "source": [
        "The below code shows two different ways of multiplying two tensors element-by-element"
      ]
    },
    {
      "cell_type": "code",
      "metadata": {
        "colab": {
          "base_uri": "https://localhost:8080/"
        },
        "id": "HBpDeD_FrspD",
        "outputId": "c18c5ea6-6b59-40fa-b94d-bd55b965248e"
      },
      "source": [
        "print(f\"tensor.mul(tensor) \\n {tensor.mul(tensor)} \\n\")\n",
        "print(f\"tensor*tensor \\n {tensor*tensor} \\n\")"
      ],
      "execution_count": 15,
      "outputs": [
        {
          "output_type": "stream",
          "name": "stdout",
          "text": [
            "tensor.mul(tensor) \n",
            " tensor([[1., 0., 1., 1.],\n",
            "        [1., 0., 1., 1.],\n",
            "        [1., 0., 1., 1.],\n",
            "        [1., 0., 1., 1.]]) \n",
            "\n",
            "tensor*tensor \n",
            " tensor([[1., 0., 1., 1.],\n",
            "        [1., 0., 1., 1.],\n",
            "        [1., 0., 1., 1.],\n",
            "        [1., 0., 1., 1.]]) \n",
            "\n"
          ]
        }
      ]
    },
    {
      "cell_type": "markdown",
      "metadata": {
        "id": "r_AiW0ZjsqrQ"
      },
      "source": [
        "Two ways of matrix multiplication between two tensors"
      ]
    },
    {
      "cell_type": "code",
      "metadata": {
        "colab": {
          "base_uri": "https://localhost:8080/"
        },
        "id": "2-O6KCjNsZru",
        "outputId": "25d6c176-540f-4463-f5de-3ad79e50e328"
      },
      "source": [
        "print(f\"tensor.matmul(tensor.T) \\n {tensor.matmul(tensor.T)} \\n\")\n",
        "print(f\"tensor @ tensor.T \\n {tensor @ tensor.T} \\n\")"
      ],
      "execution_count": 16,
      "outputs": [
        {
          "output_type": "stream",
          "name": "stdout",
          "text": [
            "tensor.matmul(tensor.T) \n",
            " tensor([[3., 3., 3., 3.],\n",
            "        [3., 3., 3., 3.],\n",
            "        [3., 3., 3., 3.],\n",
            "        [3., 3., 3., 3.]]) \n",
            "\n",
            "tensor @ tensor.T \n",
            " tensor([[3., 3., 3., 3.],\n",
            "        [3., 3., 3., 3.],\n",
            "        [3., 3., 3., 3.],\n",
            "        [3., 3., 3., 3.]]) \n",
            "\n"
          ]
        }
      ]
    },
    {
      "cell_type": "code",
      "metadata": {
        "id": "poTPmgQHuseX"
      },
      "source": [
        ""
      ],
      "execution_count": null,
      "outputs": []
    }
  ]
}