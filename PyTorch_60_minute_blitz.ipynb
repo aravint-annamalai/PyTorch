{
  "nbformat": 4,
  "nbformat_minor": 0,
  "metadata": {
    "colab": {
      "name": "PyTorch 60-minute blitz.ipynb",
      "provenance": [],
      "authorship_tag": "ABX9TyMSTFu9a+oUEXlWx4fW9eqy",
      "include_colab_link": true
    },
    "kernelspec": {
      "name": "python3",
      "display_name": "Python 3"
    },
    "language_info": {
      "name": "python"
    },
    "accelerator": "GPU"
  },
  "cells": [
    {
      "cell_type": "markdown",
      "metadata": {
        "id": "view-in-github",
        "colab_type": "text"
      },
      "source": [
        "<a href=\"https://colab.research.google.com/github/aravint-annamalai/PyTorch/blob/main/PyTorch_60_minute_blitz.ipynb\" target=\"_parent\"><img src=\"https://colab.research.google.com/assets/colab-badge.svg\" alt=\"Open In Colab\"/></a>"
      ]
    },
    {
      "cell_type": "code",
      "metadata": {
        "id": "6VBiU4j5zUEx"
      },
      "source": [
        "import torch\n",
        "import numpy as np"
      ],
      "execution_count": 1,
      "outputs": []
    },
    {
      "cell_type": "markdown",
      "metadata": {
        "id": "SpACtHcyzlzM"
      },
      "source": [
        "# TENSOR INITIALIZATION"
      ]
    },
    {
      "cell_type": "markdown",
      "metadata": {
        "id": "OLGfEgZZz-vX"
      },
      "source": [
        "## torch.tensor - Directly from data "
      ]
    },
    {
      "cell_type": "code",
      "metadata": {
        "id": "IvUG2U3-zeCP"
      },
      "source": [
        "data = [[1,2],[3,4]]\n",
        "x_data = torch.tensor(data)"
      ],
      "execution_count": 2,
      "outputs": []
    },
    {
      "cell_type": "code",
      "metadata": {
        "colab": {
          "base_uri": "https://localhost:8080/"
        },
        "id": "J9gaaqx30Iox",
        "outputId": "decf78f6-59c3-417d-eaba-13a2cd674949"
      },
      "source": [
        "x_data"
      ],
      "execution_count": 3,
      "outputs": [
        {
          "output_type": "execute_result",
          "data": {
            "text/plain": [
              "tensor([[1, 2],\n",
              "        [3, 4]])"
            ]
          },
          "metadata": {},
          "execution_count": 3
        }
      ]
    },
    {
      "cell_type": "markdown",
      "metadata": {
        "id": "VSZAYz160Chl"
      },
      "source": [
        "## torch.from_numpy - From a NumPy array"
      ]
    },
    {
      "cell_type": "code",
      "metadata": {
        "colab": {
          "base_uri": "https://localhost:8080/"
        },
        "id": "KSDrF2r0z8CB",
        "outputId": "81cb5e59-76b5-43e2-c1ad-0be7c68b1d2b"
      },
      "source": [
        "np_array = np.array(data)\n",
        "x_np = torch.from_numpy(np_array)\n",
        "x_np"
      ],
      "execution_count": 4,
      "outputs": [
        {
          "output_type": "execute_result",
          "data": {
            "text/plain": [
              "tensor([[1, 2],\n",
              "        [3, 4]])"
            ]
          },
          "metadata": {},
          "execution_count": 4
        }
      ]
    },
    {
      "cell_type": "markdown",
      "metadata": {
        "id": "2otRYrni0eTt"
      },
      "source": [
        "## From another tensor"
      ]
    },
    {
      "cell_type": "markdown",
      "metadata": {
        "id": "q87I85lg16os"
      },
      "source": [
        "### torch.ones_like"
      ]
    },
    {
      "cell_type": "markdown",
      "metadata": {
        "id": "hFk91VPq2CGZ"
      },
      "source": [
        "Tensor of all ones having the same shape as the input tensor "
      ]
    },
    {
      "cell_type": "code",
      "metadata": {
        "colab": {
          "base_uri": "https://localhost:8080/"
        },
        "id": "-vyvCduv0Pwh",
        "outputId": "c558bafd-deab-449c-fa7b-549a7bf4cdf9"
      },
      "source": [
        "x_ones = torch.ones_like(x_data)\n",
        "print(f\"Ones Tensor: \\n {x_ones} \\n\")"
      ],
      "execution_count": 5,
      "outputs": [
        {
          "output_type": "stream",
          "name": "stdout",
          "text": [
            "Ones Tensor: \n",
            " tensor([[1, 1],\n",
            "        [1, 1]]) \n",
            "\n"
          ]
        }
      ]
    },
    {
      "cell_type": "markdown",
      "metadata": {
        "id": "hlCvjD-q2liJ"
      },
      "source": [
        "### torch.rand_like"
      ]
    },
    {
      "cell_type": "markdown",
      "metadata": {
        "id": "n154qp0C2qIJ"
      },
      "source": [
        "Tensor of random numbers having the same shape as the input tensor"
      ]
    },
    {
      "cell_type": "code",
      "metadata": {
        "colab": {
          "base_uri": "https://localhost:8080/"
        },
        "id": "f5g1CWV31sLH",
        "outputId": "505e8e8d-43ab-4c96-d562-a32ed10504a9"
      },
      "source": [
        "x_rand = torch.rand_like(x_data, dtype = torch.float)\n",
        "print(f\"Random tensor: \\n {x_rand} \\n\")"
      ],
      "execution_count": 6,
      "outputs": [
        {
          "output_type": "stream",
          "name": "stdout",
          "text": [
            "Random tensor: \n",
            " tensor([[0.6605, 0.0591],\n",
            "        [0.4109, 0.5527]]) \n",
            "\n"
          ]
        }
      ]
    },
    {
      "cell_type": "markdown",
      "metadata": {
        "id": "cXImHYtt3Wik"
      },
      "source": [
        "## With random or constant values"
      ]
    },
    {
      "cell_type": "code",
      "metadata": {
        "colab": {
          "base_uri": "https://localhost:8080/"
        },
        "id": "LJRMJf2A26OF",
        "outputId": "e3766ea9-57ee-4310-ecc1-eae673cf471d"
      },
      "source": [
        "shape = (2,3)\n",
        "rand_tensor = torch.rand(shape)\n",
        "ones_tensor = torch.ones(shape)\n",
        "zeros_tensor = torch.zeros(shape)\n",
        "\n",
        "print(f\"Random tensor: \\n {rand_tensor} \\n\")\n",
        "print(f\"Ones tensor: \\n {ones_tensor} \\n\")\n",
        "print(f\"Zeros tensor: \\n {zeros_tensor} \\n\")"
      ],
      "execution_count": 7,
      "outputs": [
        {
          "output_type": "stream",
          "name": "stdout",
          "text": [
            "Random tensor: \n",
            " tensor([[0.9185, 0.6894, 0.0908],\n",
            "        [0.4378, 0.2312, 0.1753]]) \n",
            "\n",
            "Ones tensor: \n",
            " tensor([[1., 1., 1.],\n",
            "        [1., 1., 1.]]) \n",
            "\n",
            "Zeros tensor: \n",
            " tensor([[0., 0., 0.],\n",
            "        [0., 0., 0.]]) \n",
            "\n"
          ]
        }
      ]
    },
    {
      "cell_type": "markdown",
      "metadata": {
        "id": "-RuU_FW35P8u"
      },
      "source": [
        "# TENSOR ATTRIBUTES"
      ]
    },
    {
      "cell_type": "code",
      "metadata": {
        "colab": {
          "base_uri": "https://localhost:8080/"
        },
        "id": "WHtvqI8J5XPB",
        "outputId": "fc53b395-dc5c-401c-ae86-a5f8a3beae18"
      },
      "source": [
        "tensor = torch.rand(3,4)\n",
        "\n",
        "print(f\"Shape of tensor: {tensor.shape}\")\n",
        "print(f\"Datatype of tensor: {tensor.dtype}\")\n",
        "print(f\"Device tensor is stored on: {tensor.device}\")"
      ],
      "execution_count": 8,
      "outputs": [
        {
          "output_type": "stream",
          "name": "stdout",
          "text": [
            "Shape of tensor: torch.Size([3, 4])\n",
            "Datatype of tensor: torch.float32\n",
            "Devce tensor is stored on: cpu\n"
          ]
        }
      ]
    },
    {
      "cell_type": "code",
      "metadata": {
        "id": "ExOv8Gs94pUy"
      },
      "source": [
        "assert rand_tensor.shape == rand_tensor.size()"
      ],
      "execution_count": 9,
      "outputs": []
    },
    {
      "cell_type": "code",
      "metadata": {
        "id": "iNbZSC554s0m"
      },
      "source": [
        ""
      ],
      "execution_count": 9,
      "outputs": []
    }
  ]
}